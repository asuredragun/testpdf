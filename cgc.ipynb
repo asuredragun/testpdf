{
 "cells": [
  {
   "cell_type": "code",
   "execution_count": null,
   "metadata": {},
   "outputs": [],
   "source": [
    "!pip install pdfplumber\n",
    "!pip install openpyxl\n",
    "!pip install camelot-py[cv]\n",
    "!pip install tabula-py\n",
    "!pip install pdfplumber\n",
    "!pip install pandas\n",
    "!pip install pytesseract \n",
    "!pip install pdf2image\n"
   ]
  },
  {
   "cell_type": "code",
   "execution_count": null,
   "metadata": {},
   "outputs": [
    {
     "ename": "ModuleNotFoundError",
     "evalue": "No module named 'PyMuPDF'",
     "output_type": "error",
     "traceback": [
      "\u001b[1;31m---------------------------------------------------------------------------\u001b[0m",
      "\u001b[1;31mModuleNotFoundError\u001b[0m                       Traceback (most recent call last)",
      "Cell \u001b[1;32mIn[3], line 2\u001b[0m\n\u001b[0;32m      1\u001b[0m \u001b[38;5;28;01mimport\u001b[39;00m\u001b[38;5;250m \u001b[39m\u001b[38;5;21;01mpdfplumber\u001b[39;00m\n\u001b[1;32m----> 2\u001b[0m \u001b[38;5;28;01mimport\u001b[39;00m\u001b[38;5;250m \u001b[39m\u001b[38;5;21;01mPyMuPDF\u001b[39;00m \u001b[38;5;66;03m# PyMuPDF\u001b[39;00m\n\u001b[0;32m      3\u001b[0m \u001b[38;5;28;01mimport\u001b[39;00m\u001b[38;5;250m \u001b[39m\u001b[38;5;21;01mpandas\u001b[39;00m\u001b[38;5;250m \u001b[39m\u001b[38;5;28;01mas\u001b[39;00m\u001b[38;5;250m \u001b[39m\u001b[38;5;21;01mpd\u001b[39;00m\n\u001b[0;32m      4\u001b[0m \u001b[38;5;28;01mimport\u001b[39;00m\u001b[38;5;250m \u001b[39m\u001b[38;5;21;01mos\u001b[39;00m\n",
      "\u001b[1;31mModuleNotFoundError\u001b[0m: No module named 'PyMuPDF'"
     ]
    }
   ],
   "source": [
    "import pdfplumber\n",
    "import fitz # PyMuPDF\n",
    "import pandas as pd\n",
    "import os\n",
    "\n",
    "# Directorios de entrada y salida\n",
    "pdf_directory = \"pdf\"  # Ruta de los archivos PDF\n",
    "output_directory = \"excel\"  # Carpeta para guardar los archivos Excel\n",
    "os.makedirs(output_directory, exist_ok=True)\n",
    "\n",
    "# Iterar sobre los archivos PDF en el directorio\n",
    "for filename in os.listdir(pdf_directory):\n",
    "    if filename.endswith(\".pdf\"):\n",
    "        filepath = os.path.join(pdf_directory, filename)\n",
    "        output_path = os.path.join(output_directory, filename.replace(\".pdf\", \".xlsx\"))\n",
    "        \n",
    "        print(f\"Procesando archivo: {filename}\")\n",
    "        \n",
    "        try:\n",
    "            # Abrir el PDF y extraer tablas\n",
    "            with pdfplumber.open(filepath) as pdf:\n",
    "                all_tables = []\n",
    "                for page in pdf.pages:\n",
    "                    tables = page.extract_tables()\n",
    "                    for table in tables:\n",
    "                        df = pd.DataFrame(table)\n",
    "                        all_tables.append(df)\n",
    "                \n",
    "                # Extraer texto con PyMuPDF\n",
    "                doc = fitz.open(filepath)\n",
    "                all_text = \"\"\n",
    "                for page_num in range(len(doc)):\n",
    "                    page = doc.load_page(page_num)\n",
    "                    all_text += page.get_text()\n",
    "                \n",
    "                # Guardar en Excel si se encontraron tablas\n",
    "                if all_tables:\n",
    "                    with pd.ExcelWriter(output_path) as writer:\n",
    "                        for i, df in enumerate(all_tables):\n",
    "                            df.to_excel(writer, sheet_name=f\"Tabla_{i+1}\", index=False, header=False)\n",
    "                        # Guardar el texto en una hoja separada\n",
    "                        text_df = pd.DataFrame([all_text.split('\\n')])\n",
    "                        text_df.to_excel(writer, sheet_name=\"Texto\", index=False, header=False)\n",
    "                    print(f\"Archivo guardado en: {output_path}\")\n",
    "                else:\n",
    "                    print(f\"No se encontraron tablas en {filename}\")\n",
    "        \n",
    "        except Exception as e:\n",
    "            print(f\"Error al procesar {filename}: {e}\")"
   ]
  }
 ],
 "metadata": {
  "kernelspec": {
   "display_name": "Python 3",
   "language": "python",
   "name": "python3"
  },
  "language_info": {
   "codemirror_mode": {
    "name": "ipython",
    "version": 3
   },
   "file_extension": ".py",
   "mimetype": "text/x-python",
   "name": "python",
   "nbconvert_exporter": "python",
   "pygments_lexer": "ipython3",
   "version": "3.11.9"
  }
 },
 "nbformat": 4,
 "nbformat_minor": 2
}
